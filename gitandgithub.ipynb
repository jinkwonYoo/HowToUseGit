{
 "cells": [
  {
   "attachments": {},
   "cell_type": "markdown",
   "metadata": {},
   "source": [
    "<br>\n",
    "<br>\n",
    "<div><b><font size=\"15\">&nbsp;&nbsp;&nbsp;&nbsp;&nbsp;&nbsp;How to use git and github &nbsp;&nbsp;&nbsp;&nbsp;&nbsp;&nbsp;&nbsp;&nbsp;&nbsp;&nbsp;&nbsp;&nbsp;\n",
    "</font></b></div>\n",
    "<br>\n",
    "<br>\n",
    "<br>\n",
    "<br>\n",
    "<br>\n",
    "<br>\n",
    "<br>\n",
    "<br>\n",
    "<br>\n",
    "<br>\n",
    "<br>\n",
    "<br>\n",
    "<div style=\"text-align: right; font-size: 18px; font-weight: bold\">   Keum, June Ho |  Seo, Roy | Yoo, Jin Kwon  </div> <br> <br> \n",
    "<div style=\"text-align: right; font-size: 15px\">  wnsgh1663'at''gmail''dot''com' | royseo'at''uw''dot''edu' | jinkwonyoo'at''gmail''dot''com' </div> \n",
    "<div style=\"text-align: right; font-size: 15px\">  GitHub @junehh98 | @royjoysoy | @jinkwonyoo  </div>\n",
    "<br>\n",
    "<br>\n",
    "<br>\n",
    "<br>\n",
    "<br>"
   ]
  },
  {
   "cell_type": "markdown",
   "metadata": {},
   "source": []
  }
 ],
 "metadata": {
  "language_info": {
   "name": "python"
  },
  "orig_nbformat": 4
 },
 "nbformat": 4,
 "nbformat_minor": 2
}
